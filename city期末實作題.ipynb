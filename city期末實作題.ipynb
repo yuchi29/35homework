{
  "nbformat": 4,
  "nbformat_minor": 0,
  "metadata": {
    "colab": {
      "provenance": [],
      "authorship_tag": "ABX9TyMMqbEWMZSiNiZR9IqMBYXO",
      "include_colab_link": true
    },
    "kernelspec": {
      "name": "python3",
      "display_name": "Python 3"
    },
    "language_info": {
      "name": "python"
    }
  },
  "cells": [
    {
      "cell_type": "markdown",
      "metadata": {
        "id": "view-in-github",
        "colab_type": "text"
      },
      "source": [
        "<a href=\"https://colab.research.google.com/github/yuchi29/35homework/blob/main/city%E6%9C%9F%E6%9C%AB%E5%AF%A6%E4%BD%9C%E9%A1%8C.ipynb\" target=\"_parent\"><img src=\"https://colab.research.google.com/assets/colab-badge.svg\" alt=\"Open In Colab\"/></a>"
      ]
    },
    {
      "cell_type": "code",
      "execution_count": 1,
      "metadata": {
        "colab": {
          "base_uri": "https://localhost:8080/"
        },
        "id": "_alVdWHkfVnh",
        "outputId": "bc757540-c93c-48a5-8e0c-39a3d461793e"
      },
      "outputs": [
        {
          "output_type": "stream",
          "name": "stdout",
          "text": [
            "遊歷順序: DEACBFG\n",
            "旅費:49724.54元\n"
          ]
        }
      ],
      "source": [
        "from itertools import permutations\n",
        "class city:                             #建立class\n",
        "    def __init__(self,coordinate,cost):\n",
        "        self.x = coordinate[0]\n",
        "        self.y = coordinate[1]\n",
        "        self.cost = cost\n",
        "    \n",
        "def discount(curCity,preCity):          #定義function\n",
        "    discountCity = {A:(C,G),B:(D,E),C:(G,A),D:(A,B),E:(B,F),F:(A,C),G:(E,F)}\n",
        "    for city in discountCity.get(curCity):\n",
        "        if city == preCity:\n",
        "            return int(curCity.cost * 0.8)\n",
        "    return curCity.cost\n",
        "\n",
        "#城市class\n",
        "A = city((0,0),2000)\n",
        "B = city((0,120),2400)\n",
        "C = city((30,100),2400)\n",
        "D = city((80,0),1600)\n",
        "E = city((45,10),1500)\n",
        "F = city((90,160),2200)\n",
        "G = city((120,200),1200)\n",
        "\n",
        "# travels -> 遊歷的所有可能性 [[[城市名稱,城市class]*7]*5040]    (三維串列)\n",
        "# ( 三維:所有5040種遊歷的可能性   二維:每個城市(遊歷順序)   一維:[0]->城市名稱, [1]->城市class )\n",
        "# result -> 儲存[[城市順序,旅費]*n]    (二維串列)\n",
        "travels = list(permutations([[chr(65+x[0]),x[1]] for x in enumerate([A,B,C,D,E,F,G])]))\n",
        "result = []\n",
        "\n",
        "# travel -> [[城市名稱,城市class]*7]    (二維串列)\n",
        "# ( 二維:每個城市(遊歷順序)、一維:[0]->城市名稱, [1]->城市class )\n",
        "for travel in travels:\n",
        "    expense = travel[0][1].cost         #第一個出發城市 (只+食宿費用)\n",
        "    for i in range(1,len(travel)):\n",
        "        expense += discount(travel[i][1],travel[i-1][1])        #第2個之後的城市 (+折扣後的食宿費用)\n",
        "        expense += ((travel[i][1].x-travel[i-1][1].x)**2+(travel[i][1].y-travel[i-1][1].y)**2)**0.5*100     #第2個之後的城市 (+油錢)\n",
        "    result.append([\"\".join([x[0] for x in travel]),expense])       #把[城市順序,旅費]加到result裡\n",
        "\n",
        "# 以旅費決定最小值\n",
        "ans = min(result,key = lambda x: x[1])\n",
        "\n",
        "# 輸出\n",
        "print(f\"遊歷順序: {ans[0]}\")\n",
        "print(f\"旅費:{ans[1]:.2f}元\")\n",
        "\n"
      ]
    }
  ]
}