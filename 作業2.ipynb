{
  "nbformat": 4,
  "nbformat_minor": 0,
  "metadata": {
    "colab": {
      "provenance": []
    },
    "kernelspec": {
      "name": "python3",
      "display_name": "Python 3"
    },
    "language_info": {
      "name": "python"
    }
  },
  "cells": [
    {
      "cell_type": "code",
      "execution_count": null,
      "metadata": {
        "colab": {
          "base_uri": "https://localhost:8080/"
        },
        "id": "qK_5EpJeiBKS",
        "outputId": "0eaab0ef-473d-4147-b7b3-a7cfe49092ff"
      },
      "outputs": [
        {
          "output_type": "stream",
          "name": "stdout",
          "text": [
            "文章總共有 127 個字\n"
          ]
        }
      ],
      "source": [
        "a = \"大道之行也，天  下為公。 選賢與能，講信  修睦。故人不獨親其親，不獨子其子；使老有所終，壯有 所用，幼有 所長，矜寡孤獨廢疾者，皆有所養；男有分 女有歸。貨惡其棄 於地也不必藏於  己；力惡其不  出於身也不必為己。是故 謀閉而不興 ，盜竊亂賊而不作，故外戶而 不閉，是謂「大同」。\"\n",
        "b =a.replace(\" \", \"\")\n",
        "c= len(b)\n",
        "\n",
        "print(\"文章總共有\", c, \"個字\")\n"
      ]
    },
    {
      "cell_type": "code",
      "source": [
        "a=\"大道之行也，天  下為公。 選賢與能，講信  修睦。故人不獨親其親，不獨子其子；使老有所終，壯有 所用，幼有 所長，矜寡孤獨廢疾者，皆有所養；男有分 女有歸。貨惡其棄 於地也不必藏於  己；力惡其不  出於身也不必為己。是故 謀閉而不興 ，盜竊亂賊而不作，故外戶而 不閉，是謂「大同」。\"\n",
        "b=a.replace(\" \",\"\")\n",
        "c=b.replace('。', '。\\n').replace('；', '；\\n').replace('，', '，\\n')\n",
        "d=c.replace('。', '。\\b').replace('；', '；\\b').replace('，', '，\\b')\n",
        "print(d)"
      ],
      "metadata": {
        "colab": {
          "base_uri": "https://localhost:8080/"
        },
        "id": "uvuL4bz4itmL",
        "outputId": "5511aae7-0916-463f-ea20-a192ed7093eb"
      },
      "execution_count": null,
      "outputs": [
        {
          "output_type": "stream",
          "name": "stdout",
          "text": [
            "大道之行也，\b\n",
            "天下為公。\b\n",
            "選賢與能，\b\n",
            "講信修睦。\b\n",
            "故人不獨親其親，\b\n",
            "不獨子其子；\b\n",
            "使老有所終，\b\n",
            "壯有所用，\b\n",
            "幼有所長，\b\n",
            "矜寡孤獨廢疾者，\b\n",
            "皆有所養；\b\n",
            "男有分女有歸。\b\n",
            "貨惡其棄於地也不必藏於己；\b\n",
            "力惡其不出於身也不必為己。\b\n",
            "是故謀閉而不興，\b\n",
            "盜竊亂賊而不作，\b\n",
            "故外戶而不閉，\b\n",
            "是謂「大同」。\b\n",
            "\n"
          ]
        }
      ]
    },
    {
      "cell_type": "code",
      "source": [
        "a = \"大道之行也，天下為公。選賢與能，講信修睦。故人不獨親其親，不獨子其子；使老有所終，壯有所用，幼有所長，矜寡孤獨廢疾者，皆有所養；男有分女有歸。貨惡其棄於地也不必藏於己；力惡其不出於身也不必為己。是故謀閉而不興，盜竊亂賊而不作，故外戶而不閉，是謂「大同」。\"\n",
        "\n",
        "b = a.count(\"不\")\n",
        "print(\"文章中共有\", b, \"個「不」字。\")"
      ],
      "metadata": {
        "colab": {
          "base_uri": "https://localhost:8080/"
        },
        "id": "cVtxPmFWiutV",
        "outputId": "da066257-0f5b-4ddd-9d9e-7d4987a336ec"
      },
      "execution_count": null,
      "outputs": [
        {
          "output_type": "stream",
          "name": "stdout",
          "text": [
            "文章中共有 8 個「不」字。\n"
          ]
        }
      ]
    }
  ]
}